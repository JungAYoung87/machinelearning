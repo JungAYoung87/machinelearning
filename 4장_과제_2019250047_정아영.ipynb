{
  "nbformat": 4,
  "nbformat_minor": 0,
  "metadata": {
    "colab": {
      "name": "4장 과제 2019250047 정아영",
      "provenance": [],
      "collapsed_sections": [],
      "authorship_tag": "ABX9TyOFIFMxbRJtgzw7KZxqB3Pb",
      "include_colab_link": true
    },
    "kernelspec": {
      "name": "python3",
      "display_name": "Python 3"
    },
    "language_info": {
      "name": "python"
    }
  },
  "cells": [
    {
      "cell_type": "markdown",
      "metadata": {
        "id": "view-in-github",
        "colab_type": "text"
      },
      "source": [
        "<a href=\"https://colab.research.google.com/github/JungAYoung87/machinelearning/blob/master/4%EC%9E%A5_%EA%B3%BC%EC%A0%9C_2019250047_%EC%A0%95%EC%95%84%EC%98%81.ipynb\" target=\"_parent\"><img src=\"https://colab.research.google.com/assets/colab-badge.svg\" alt=\"Open In Colab\"/></a>"
      ]
    },
    {
      "cell_type": "markdown",
      "metadata": {
        "id": "ZTTNFM-n2D2r"
      },
      "source": [
        "#과제1"
      ]
    },
    {
      "cell_type": "markdown",
      "metadata": {
        "id": "PDqAJDGB2HFu"
      },
      "source": [
        "데이터 준비"
      ]
    },
    {
      "cell_type": "code",
      "metadata": {
        "id": "mI1DNiiK37tj"
      },
      "source": [
        "import numpy as np\n",
        "import os\n",
        "\n",
        "from sklearn import datasets\n",
        "iris = datasets.load_iris()\n",
        "\n",
        "X = iris[\"data\"][:, (2, 3)]  # 꽃잎 길이, 꽃잎 넓이\n",
        "y = iris[\"target\"]"
      ],
      "execution_count": null,
      "outputs": []
    },
    {
      "cell_type": "code",
      "metadata": {
        "id": "ECtnlY6fmp0K"
      },
      "source": [
        "X_with_bias = np.c_[np.ones([len(X), 1]), X]"
      ],
      "execution_count": null,
      "outputs": []
    },
    {
      "cell_type": "code",
      "metadata": {
        "id": "7H9VVeVimrKr"
      },
      "source": [
        "np.random.seed(2042)"
      ],
      "execution_count": null,
      "outputs": []
    },
    {
      "cell_type": "markdown",
      "metadata": {
        "id": "kd0FzPQv2UCx"
      },
      "source": [
        "데이터셋 분할"
      ]
    },
    {
      "cell_type": "code",
      "metadata": {
        "id": "0iJVsynGmtCg"
      },
      "source": [
        "test_ratio = 0.2                                         # 테스트 세트 비율 = 20%\n",
        "validation_ratio = 0.2                                   # 검증 세트 비율 = 20%\n",
        "total_size = len(X_with_bias)                            # 전체 데이터셋 크기\n",
        "\n",
        "test_size = int(total_size * test_ratio)                 # 테스트 세트 크기: 전체의 20%\n",
        "validation_size = int(total_size * validation_ratio)     # 검증 세트 크기: 전체의 20%\n",
        "train_size = total_size - test_size - validation_size    # 훈련 세트 크기: 전체의 60%"
      ],
      "execution_count": null,
      "outputs": []
    },
    {
      "cell_type": "code",
      "metadata": {
        "id": "AhBM5EZhmuPL"
      },
      "source": [
        "rnd_indices = np.random.permutation(total_size)"
      ],
      "execution_count": null,
      "outputs": []
    },
    {
      "cell_type": "code",
      "metadata": {
        "id": "Cf8uTmOHmwb3"
      },
      "source": [
        "X_train = X_with_bias[rnd_indices[:train_size]]\n",
        "y_train = y[rnd_indices[:train_size]]\n",
        "\n",
        "X_valid = X_with_bias[rnd_indices[train_size:-test_size]]\n",
        "y_valid = y[rnd_indices[train_size:-test_size]]\n",
        "\n",
        "X_test = X_with_bias[rnd_indices[-test_size:]]\n",
        "y_test = y[rnd_indices[-test_size:]]"
      ],
      "execution_count": null,
      "outputs": []
    },
    {
      "cell_type": "markdown",
      "metadata": {
        "id": "Koffp72z2Xj8"
      },
      "source": [
        "타깃 변환"
      ]
    },
    {
      "cell_type": "code",
      "metadata": {
        "colab": {
          "base_uri": "https://localhost:8080/"
        },
        "id": "4_5TlMv9myPx",
        "outputId": "68ca92a3-4b55-4edd-bff9-1dd9edf06311"
      },
      "source": [
        "y_train[:5]"
      ],
      "execution_count": null,
      "outputs": [
        {
          "output_type": "execute_result",
          "data": {
            "text/plain": [
              "array([0, 1, 2, 1, 1])"
            ]
          },
          "metadata": {
            "tags": []
          },
          "execution_count": 8
        }
      ]
    },
    {
      "cell_type": "code",
      "metadata": {
        "id": "DgSjdJism0DP"
      },
      "source": [
        "def to_one_hot(y):\n",
        "    n_classes = y.max() + 1                 # 클래스 수\n",
        "    m = len(y)                              # 샘플 수\n",
        "    Y_one_hot = np.zeros((m, n_classes))    # (샘플 수, 클래스 수) 0-벡터 생성\n",
        "    Y_one_hot[np.arange(m), y] = 1          # 샘플 별로 해당 클래스의 값만 1로 변경. (넘파이 인덱싱 활용)\n",
        "    return Y_one_hot"
      ],
      "execution_count": null,
      "outputs": []
    },
    {
      "cell_type": "code",
      "metadata": {
        "colab": {
          "base_uri": "https://localhost:8080/"
        },
        "id": "AgvJdsQSm1Wa",
        "outputId": "0fb1c5e0-5674-49df-8fa1-7a6e19b83fcb"
      },
      "source": [
        "y_train[:5]"
      ],
      "execution_count": null,
      "outputs": [
        {
          "output_type": "execute_result",
          "data": {
            "text/plain": [
              "array([0, 1, 2, 1, 1])"
            ]
          },
          "metadata": {
            "tags": []
          },
          "execution_count": 10
        }
      ]
    },
    {
      "cell_type": "code",
      "metadata": {
        "colab": {
          "base_uri": "https://localhost:8080/"
        },
        "id": "uF089oWBm2jD",
        "outputId": "83038d73-43fa-4ecb-bfa6-5dfa65332c9f"
      },
      "source": [
        "to_one_hot(y_train[:5])"
      ],
      "execution_count": null,
      "outputs": [
        {
          "output_type": "execute_result",
          "data": {
            "text/plain": [
              "array([[1., 0., 0.],\n",
              "       [0., 1., 0.],\n",
              "       [0., 0., 1.],\n",
              "       [0., 1., 0.],\n",
              "       [0., 1., 0.]])"
            ]
          },
          "metadata": {
            "tags": []
          },
          "execution_count": 11
        }
      ]
    },
    {
      "cell_type": "code",
      "metadata": {
        "id": "BMAcUwPzm345"
      },
      "source": [
        "Y_train_one_hot = to_one_hot(y_train)\n",
        "Y_valid_one_hot = to_one_hot(y_valid)\n",
        "Y_test_one_hot = to_one_hot(y_test)"
      ],
      "execution_count": null,
      "outputs": []
    },
    {
      "cell_type": "markdown",
      "metadata": {
        "id": "f1nacm7H2b96"
      },
      "source": [
        "sigmoid 함수 구현"
      ]
    },
    {
      "cell_type": "code",
      "metadata": {
        "id": "61xPy95UiA-J"
      },
      "source": [
        "def sigmoid(X):\n",
        "    return 1 / (1+np.exp(-X))\n",
        "\n",
        "def loss_func(X, t):\n",
        "    \n",
        "    delta = 1e-7    # log 무한대 발산 방지\n",
        "    \n",
        "    z = np.dot(X,W) + b\n",
        "    t = sigmoid(z)\n",
        "    \n",
        "    # cross-entropy \n",
        "    return  -np.sum( y*np.log(t + delta) + (1-y)*np.log((1 - t)+delta ) )"
      ],
      "execution_count": null,
      "outputs": []
    },
    {
      "cell_type": "code",
      "metadata": {
        "id": "fVPgRTNAiCo0"
      },
      "source": [
        "\n",
        "def numerical_derivative(f, X):\n",
        "    delta_X = 1e-4 # 0.0001\n",
        "    grad = np.zeros_like(X)\n",
        "    \n",
        "    it = np.nditer(X, flags=['multi_index'], op_flags=['readwrite'])\n",
        "    \n",
        "    while not it.finished:\n",
        "        idx = it.multi_index        \n",
        "        tmp_val = X[idx]\n",
        "        X[idx] = float(tmp_val) + delta_X\n",
        "        fX1 = f(X) # f(X+delta_X)\n",
        "        \n",
        "        X[idx] = tmp_val - delta_X \n",
        "        fX2 = f(X) # f(X-delta_X)\n",
        "        grad[idx] = (fX1 - fX2) / (2*delta_X)\n",
        "        \n",
        "        X[idx] = tmp_val \n",
        "        it.iternext()   \n",
        "        \n",
        "    return grad"
      ],
      "execution_count": null,
      "outputs": []
    },
    {
      "cell_type": "code",
      "metadata": {
        "id": "DT5UAL84iGNI"
      },
      "source": [
        "def error_val(X, y):\n",
        "    delta = 1e-7    # log 무한대 발산 방지\n",
        "    \n",
        "    z = np.dot(X,W) + b\n",
        "    t = sigmoid(z)\n",
        "    \n",
        "    # cross-entropy \n",
        "    return  -np.sum( y*np.log(t + delta) + (1-y)*np.log((1 - t)+delta ) ) \n",
        "\n",
        "# 학습을 마친 후, 임의의 데이터에 대해 미래 값 예측 함수\n",
        "# 입력변수 X : numpy type\n",
        "def predict(X):\n",
        "    \n",
        "    z = np.dot(X,W) + b\n",
        "    t = sigmoid(z)\n",
        "    \n",
        "    if t >= 0.5:\n",
        "        result = 1  # True\n",
        "    else:\n",
        "        result = 0  # False\n",
        "    \n",
        "    return t, result"
      ],
      "execution_count": null,
      "outputs": []
    },
    {
      "cell_type": "markdown",
      "metadata": {
        "id": "0U36d6bf2hC4"
      },
      "source": [
        "경사하강법 활용 훈련"
      ]
    },
    {
      "cell_type": "code",
      "metadata": {
        "id": "r4V7a-PDlZxh"
      },
      "source": [
        "n_inputs = X_train.shape[1]           # 특성 수(n) + 1, 붓꽃의 경우: 특성 2개 + 1\n",
        "n_outputs = len(np.unique(y_train))   # 중복을 제거한 클래스 수(K), 붓꽃의 경우: 3개"
      ],
      "execution_count": null,
      "outputs": []
    },
    {
      "cell_type": "code",
      "metadata": {
        "id": "oj0Qj0ULlbWf"
      },
      "source": [
        "Theta = np.random.randn(n_inputs, n_outputs)"
      ],
      "execution_count": null,
      "outputs": []
    },
    {
      "cell_type": "code",
      "metadata": {
        "colab": {
          "base_uri": "https://localhost:8080/"
        },
        "id": "f1P70CgTldLn",
        "outputId": "1355a411-26ce-41ae-e085-49343ccf95f1"
      },
      "source": [
        "#  배치 경사하강법 구현\n",
        "eta = 0.01\n",
        "n_iterations = 5001\n",
        "m = len(X_train)\n",
        "epsilon = 1e-7\n",
        "\n",
        "for iteration in range(n_iterations):     # 5001번 반복 훈련\n",
        "    X = X_train.dot(Theta)\n",
        "    Y_proba = sigmoid(X)\n",
        "    \n",
        "    if iteration % 500 == 0:              # 500 에포크마다 손실(비용) 계산해서 출력\n",
        "        loss = -np.mean(np.sum(Y_train_one_hot * np.log(Y_proba + epsilon), axis=1))\n",
        "        print(iteration, loss)\n",
        "    \n",
        "    error = Y_proba - Y_train_one_hot     # 그레이디언트 계산.\n",
        "    gradients = 1/m * X_train.T.dot(error)\n",
        "    \n",
        "    Theta = Theta - eta * gradients       # 파라미터 업데이트"
      ],
      "execution_count": null,
      "outputs": [
        {
          "output_type": "stream",
          "text": [
            "0 2.879452675764795\n",
            "500 0.8411619643205543\n",
            "1000 0.7441758613299106\n",
            "1500 0.6805538946495453\n",
            "2000 0.6368494302871641\n",
            "2500 0.6053324972843511\n",
            "3000 0.5815889410900722\n",
            "3500 0.5630243067213745\n",
            "4000 0.548053181656526\n",
            "4500 0.5356676834673233\n",
            "5000 0.5252029776033043\n"
          ],
          "name": "stdout"
        }
      ]
    },
    {
      "cell_type": "code",
      "metadata": {
        "colab": {
          "base_uri": "https://localhost:8080/"
        },
        "id": "m8dcmqXrmDgR",
        "outputId": "21798e1c-f3f4-4fdf-924a-f012667796cf"
      },
      "source": [
        "Theta"
      ],
      "execution_count": null,
      "outputs": [
        {
          "output_type": "execute_result",
          "data": {
            "text/plain": [
              "array([[ 3.64527907, -1.43720859, -3.65909431],\n",
              "       [-1.23421557,  0.22083091,  0.21368026],\n",
              "       [-0.86364788, -0.08601454,  1.6308143 ]])"
            ]
          },
          "metadata": {
            "tags": []
          },
          "execution_count": 20
        }
      ]
    },
    {
      "cell_type": "markdown",
      "metadata": {
        "id": "Vt2x5-yv-IQZ"
      },
      "source": [
        "## 검증"
      ]
    },
    {
      "cell_type": "code",
      "metadata": {
        "colab": {
          "base_uri": "https://localhost:8080/"
        },
        "id": "PA5JUKVemGXI",
        "outputId": "f404f737-c5c5-41d7-e80b-86eab4833611"
      },
      "source": [
        "logits = X_valid.dot(Theta)              \n",
        "Y_proba = logistic(logits)\n",
        "y_predict = np.array([])\n",
        "for i in range(len(Y_proba)):\n",
        "  if Y_proba[i] >= 0.5:\n",
        "    y_predict = np.append(y_predict, 1)\n",
        "  else:\n",
        "    y_predict = np.append(y_predict, 0)\n",
        "\n",
        "accuracy_score = np.mean(y_predict == y_valid)  # 정확도 계산\n",
        "accuracy_score"
      ],
      "execution_count": null,
      "outputs": [
        {
          "output_type": "execute_result",
          "data": {
            "text/plain": [
              "0.9"
            ]
          },
          "metadata": {
            "tags": []
          },
          "execution_count": 22
        }
      ]
    },
    {
      "cell_type": "markdown",
      "metadata": {
        "id": "M31oJMuz2nga"
      },
      "source": [
        "규제가 추가된 경사하강법 활용 훈련"
      ]
    },
    {
      "cell_type": "code",
      "metadata": {
        "colab": {
          "base_uri": "https://localhost:8080/"
        },
        "id": "BVbaE6Nstgg9",
        "outputId": "70a30e62-7bbc-4ca5-fcf9-e264b4e8a40d"
      },
      "source": [
        "eta = 0.1\n",
        "n_iterations = 5001\n",
        "m = len(X_train)\n",
        "epsilon = 1e-7\n",
        "alpha = 0.1        # 규제 하이퍼파라미터\n",
        "\n",
        "Theta = np.random.randn(n_inputs, n_outputs)  # 파라미터 새로 초기화\n",
        "\n",
        "for iteration in range(n_iterations):\n",
        "    X = X_train.dot(Theta)\n",
        "    Y_proba = sigmoid(X)\n",
        "    \n",
        "    if iteration % 500 == 0:\n",
        "        xentropy_loss = -np.mean(np.sum(Y_train_one_hot * np.log(Y_proba + epsilon), axis=1))\n",
        "        l2_loss = 1/2 * np.sum(np.square(Theta[1:]))  # 편향은 규제에서 제외\n",
        "        loss = xentropy_loss + alpha * l2_loss        # l2 규제가 추가된 손실\n",
        "        print(iteration, loss)\n",
        "    \n",
        "    error = Y_proba - Y_train_one_hot\n",
        "    l2_loss_gradients = np.r_[np.zeros([1, n_outputs]), alpha * Theta[1:]]   # l2 규제 그레이디언트\n",
        "    gradients = 1/m * X_train.T.dot(error) + l2_loss_gradients\n",
        "    \n",
        "    Theta = Theta - eta * gradients"
      ],
      "execution_count": null,
      "outputs": [
        {
          "output_type": "stream",
          "text": [
            "0 0.5672411342787836\n",
            "500 0.660797114029667\n",
            "1000 0.6648760638738773\n",
            "1500 0.6716657187332781\n",
            "2000 0.6764787280572263\n",
            "2500 0.6797981643157118\n",
            "3000 0.6820813210563802\n",
            "3500 0.6836476574493875\n",
            "4000 0.6847196389348427\n",
            "4500 0.6854519243996793\n",
            "5000 0.6859514895832416\n"
          ],
          "name": "stdout"
        }
      ]
    },
    {
      "cell_type": "markdown",
      "metadata": {
        "id": "AzQw6feq-ZSn"
      },
      "source": [
        "## 검증 세트를 이용한 성능 확인"
      ]
    },
    {
      "cell_type": "code",
      "metadata": {
        "colab": {
          "base_uri": "https://localhost:8080/"
        },
        "id": "9WaKmQTvml8n",
        "outputId": "344edd5c-6f93-4ca3-dc77-4d08cbfb751d"
      },
      "source": [
        "logits = X_valid.dot(Theta)              \n",
        "Y_proba = logistic(logits)\n",
        "y_predict = np.array([])\n",
        "for i in range(len(Y_proba)):\n",
        "  if Y_proba[i] >= 0.5:\n",
        "    y_predict = np.append(y_predict, 1)\n",
        "  else:\n",
        "    y_predict = np.append(y_predict, 0)\n",
        "\n",
        "accuracy_score = np.mean(y_predict == y_valid)  # 정확도 계산\n",
        "accuracy_score"
      ],
      "execution_count": null,
      "outputs": [
        {
          "output_type": "execute_result",
          "data": {
            "text/plain": [
              "0.8333333333333334"
            ]
          },
          "metadata": {
            "tags": []
          },
          "execution_count": 24
        }
      ]
    },
    {
      "cell_type": "markdown",
      "metadata": {
        "id": "kV_0KA9B2x98"
      },
      "source": [
        "조기 종료 추가"
      ]
    },
    {
      "cell_type": "code",
      "metadata": {
        "colab": {
          "base_uri": "https://localhost:8080/"
        },
        "id": "tmYfDM2Vmq7r",
        "outputId": "8fe47fde-ecd8-40f1-c662-c59017c93fd6"
      },
      "source": [
        "eta = 0.1 \n",
        "n_iterations = 5001\n",
        "m = len(X_train)\n",
        "epsilon = 1e-7\n",
        "alpha = 0.1            # 규제 하이퍼파라미터\n",
        "best_loss = np.infty   # 최소 손실값 기억 변수\n",
        "\n",
        "Theta = np.random.randn(n_inputs, n_outputs)  # 파라미터 새로 초기화\n",
        "\n",
        "for iteration in range(n_iterations):\n",
        "    # 훈련 및 손실 계산\n",
        "    X = X_train.dot(Theta)\n",
        "    Y_proba = sigmoid(X)\n",
        "    error = Y_proba - Y_train_one_hot\n",
        "    gradients = 1/m * X_train.T.dot(error) + np.r_[np.zeros([1, n_outputs]), alpha * Theta[1:]]\n",
        "    Theta = Theta - eta * gradients\n",
        "\n",
        "    # 검증 세트에 대한 손실 계산\n",
        "    X = X_valid.dot(Theta)\n",
        "    Y_proba = sigmoid(X)\n",
        "    xentropy_loss = -np.mean(np.sum(Y_valid_one_hot * np.log(Y_proba + epsilon), axis=1))\n",
        "    l2_loss = 1/2 * np.sum(np.square(Theta[1:]))\n",
        "    loss = xentropy_loss + alpha * l2_loss\n",
        "    \n",
        "    # 500 에포크마다 검증 세트에 대한 손실 출력\n",
        "    if iteration % 500 == 0:\n",
        "        print(iteration, loss)\n",
        "        \n",
        "    # 에포크마다 최소 손실값 업데이트\n",
        "    if loss < best_loss:\n",
        "        best_loss = loss\n",
        "    else:                                      # 에포크가 줄어들지 않으면 바로 훈련 종료\n",
        "        print(iteration - 1, best_loss)        # 종료되지 이전 에포크의 손실값 출력\n",
        "        print(iteration, loss, \"조기 종료!\")\n",
        "        break"
      ],
      "execution_count": null,
      "outputs": [
        {
          "output_type": "stream",
          "text": [
            "0 2.479710410471694\n",
            "319 0.7133497302033113\n",
            "320 0.713349807368472 조기 종료!\n"
          ],
          "name": "stdout"
        }
      ]
    },
    {
      "cell_type": "markdown",
      "metadata": {
        "id": "vkGQItxy22ZV"
      },
      "source": [
        "테스트 세트 평가"
      ]
    },
    {
      "cell_type": "code",
      "metadata": {
        "colab": {
          "base_uri": "https://localhost:8080/"
        },
        "id": "Bg5oWU8em1PJ",
        "outputId": "2f37535b-ec10-437d-cfe6-f33fc4b691a9"
      },
      "source": [
        "logits = X_test.dot(Theta)\n",
        "Y_proba = logistic(logits)\n",
        "y_predict = np.array([])\n",
        "for i in range(len(Y_proba)):\n",
        "  if Y_proba[i] >= 0.5:\n",
        "    y_predict = np.append(y_predict, 1)\n",
        "  else:\n",
        "    y_predict = np.append(y_predict, 0)\n",
        "\n",
        "\n",
        "accuracy_score = np.mean(y_predict == y_test)\n",
        "accuracy_score"
      ],
      "execution_count": null,
      "outputs": [
        {
          "output_type": "execute_result",
          "data": {
            "text/plain": [
              "0.7333333333333333"
            ]
          },
          "metadata": {
            "tags": []
          },
          "execution_count": 29
        }
      ]
    },
    {
      "cell_type": "markdown",
      "metadata": {
        "id": "-fU9Yn_A8gBW"
      },
      "source": [
        "## 사이킷런 로지스틱 모델과 성능 비교"
      ]
    },
    {
      "cell_type": "code",
      "metadata": {
        "id": "baWQJQqy-qHw"
      },
      "source": [
        "from sklearn.linear_model import LogisticRegression\n",
        "log_reg = LogisticRegression(solver=\"lbfgs\", random_state=42)\n",
        "log_reg.fit(X_train, y_train)"
      ],
      "execution_count": null,
      "outputs": []
    },
    {
      "cell_type": "code",
      "metadata": {
        "id": "NPbLckGt-sr4"
      },
      "source": [
        "log_reg.score(X_test,y_test)"
      ],
      "execution_count": null,
      "outputs": []
    },
    {
      "cell_type": "code",
      "metadata": {
        "id": "564SK3NU-t7c"
      },
      "source": [
        "from sklearn.metrics import accuracy_score\n",
        "y_pred = log_reg.predict(X_test)\n",
        "accuracy_score(y_test, y_pred)"
      ],
      "execution_count": null,
      "outputs": []
    },
    {
      "cell_type": "markdown",
      "metadata": {
        "id": "Shv9xQY_zFd3"
      },
      "source": [
        "#과제2"
      ]
    },
    {
      "cell_type": "markdown",
      "metadata": {
        "id": "tmIubG8h_HV_"
      },
      "source": [
        "과제 1에서 구현된 로지스틱 회귀 알고리즘에 일대다 방식을 적용하여 붓꽃에 대한 다중 클래서 분류 알고리즘을 구현하라. 단, 사이킷런을 전혀 사용하지 않아야 한다."
      ]
    },
    {
      "cell_type": "markdown",
      "metadata": {
        "id": "We8S5YpY_RLY"
      },
      "source": [
        "로지스틱 모델 2개 사용\n",
        "\n",
        "- setosa인지 아닌지를 판단하는 모델\n",
        "\n",
        "- verginica인지 아닌지를 판단하는 모델\n",
        "\n",
        "versicolor일 확률은 1-setosa일 확룔-virginica일 확률로 계산"
      ]
    },
    {
      "cell_type": "markdown",
      "metadata": {
        "id": "5Vf_Kq3C_o4k"
      },
      "source": [
        "## 데이터셋 준비"
      ]
    },
    {
      "cell_type": "code",
      "metadata": {
        "id": "Z21Jc71r_mqv"
      },
      "source": [
        "X = iris[\"data\"][:, (2, 3)]  # 꽃잎 길이, 꽃잎 넓이\n",
        "y = iris[\"target\"]\n",
        "y0 = (iris[\"target\"] == 0).astype(np.int) #setosa 판단 모델을 위한 데이터셋\n",
        "y1 = (iris[\"target\"] == 2).astype(np.int) #virginica 판단 모델을 위한 데이터셋"
      ],
      "execution_count": null,
      "outputs": []
    },
    {
      "cell_type": "code",
      "metadata": {
        "id": "Zwr0QyX5_r1Y"
      },
      "source": [
        "X_with_bias = np.c_[np.ones([len(X), 1]), X] #편향추가"
      ],
      "execution_count": null,
      "outputs": []
    },
    {
      "cell_type": "code",
      "metadata": {
        "id": "C9ytHO3U_r94"
      },
      "source": [
        "np.random.seed(2042) #일정한 결과를 위해 랜덤시드 지정"
      ],
      "execution_count": null,
      "outputs": []
    },
    {
      "cell_type": "markdown",
      "metadata": {
        "id": "4MQ-how9DZjS"
      },
      "source": [
        "모델 훈련은 각 클래스에 대해 각각 이루어지기 때문에 데이터셋도 개별적으로 준비한다."
      ]
    },
    {
      "cell_type": "code",
      "metadata": {
        "id": "oup52GtK_urA"
      },
      "source": [
        "test_ratio = 0.2                                         # 테스트 세트 비율 = 20%\n",
        "validation_ratio = 0.2                                   # 검증 세트 비율 = 20%\n",
        "total_size = len(X_with_bias)                            # 전체 데이터셋 크기\n",
        "\n",
        "test_size = int(total_size * test_ratio)                 # 테스트 세트 크기: 전체의 20%\n",
        "validation_size = int(total_size * validation_ratio)     # 검증 세트 크기: 전체의 20%\n",
        "train_size = total_size - test_size - validation_size    # 훈련 세트 크기: 전체의 60%"
      ],
      "execution_count": null,
      "outputs": []
    },
    {
      "cell_type": "code",
      "metadata": {
        "id": "6eaF7RR9_uto"
      },
      "source": [
        "rnd_indices = np.random.permutation(total_size) #데이터 섞기"
      ],
      "execution_count": null,
      "outputs": []
    },
    {
      "cell_type": "code",
      "metadata": {
        "id": "QX6SO8ugLugm"
      },
      "source": [
        "X_train = X_with_bias[rnd_indices[:train_size]] \n",
        "y_train = y[rnd_indices[:train_size]]\n",
        "y_train0 = y0[rnd_indices[:train_size]] #setosa에 대한 라벨\n",
        "y_train1 = y1[rnd_indices[:train_size]] #virginica에 대한 라벨\n",
        "\n",
        "X_valid = X_with_bias[rnd_indices[train_size:-test_size]]\n",
        "y_valid = y[rnd_indices[train_size:-test_size]]\n",
        "y_valid0 = y0[rnd_indices[train_size:-test_size]] #setosa에 대한 검증세트 라벨\n",
        "y_valid1 = y1[rnd_indices[train_size:-test_size]] #virginica에 대한 검증세트 라벨\n",
        "\n",
        "X_test = X_with_bias[rnd_indices[-test_size:]]\n",
        "y_test = y[rnd_indices[-test_size:]]"
      ],
      "execution_count": null,
      "outputs": []
    },
    {
      "cell_type": "code",
      "metadata": {
        "id": "25WG8Jf_LuSW"
      },
      "source": [
        "n_inputs = X_train.shape[1]\n",
        "Theta0 = np.random.randn(n_inputs) #setosa 판단모델에 쓰이는 세타값\n",
        "Theta1 = np.random.randn(n_inputs) #virginica 판단모델에 쓰이는 세타값"
      ],
      "execution_count": null,
      "outputs": []
    },
    {
      "cell_type": "markdown",
      "metadata": {
        "id": "tc7-3GNJ3S4n"
      },
      "source": [
        "**setosa 판별 로지스틱 회귀 모델**"
      ]
    },
    {
      "cell_type": "code",
      "metadata": {
        "colab": {
          "base_uri": "https://localhost:8080/"
        },
        "id": "pGMJuUQdl4kg",
        "outputId": "e509339a-205b-4fd1-dc52-6c1dd41f76a8"
      },
      "source": [
        "eta = 0.1 \n",
        "n_iterations = 5001\n",
        "m = len(X_train)\n",
        "epsilon = 1e-7\n",
        "alpha = 0.5            # 규제 하이퍼파라미터\n",
        "best_loss0 = np.infty   # 최소 손실값 기억 변수\n",
        "\n",
        "Theta0 = np.random.randn(n_inputs)  # 파라미터 새로 초기화\n",
        "\n",
        "for iteration in range(n_iterations):\n",
        "    # 훈련 및 손실 계산\n",
        "    logits0 = X_train.dot(Theta0)\n",
        "    Y_proba0 = logistic(logits0)\n",
        "    error = Y_proba0 - y_train0\n",
        "    gradients0 = 1/m * X_train.T.dot(error) + np.r_[np.zeros([1]), alpha * Theta0[1:]]\n",
        "    Theta0 = Theta0 - eta * gradients0\n",
        "\n",
        "    # 검증 세트에 대한 손실 계산\n",
        "    logits0 = X_valid.dot(Theta0)\n",
        "    Y_proba0 = logistic(logits0)\n",
        "    xentropy_loss0 = -np.mean(np.sum((y_valid0*np.log(Y_proba0 + epsilon) + (1-y_valid0)*np.log(1 - Y_proba0 + epsilon))))\n",
        "    l2_loss0 = 1/2 * np.sum(np.square(Theta0[1:]))\n",
        "    loss0 = xentropy_loss0 + alpha * l2_loss0\n",
        "    \n",
        "    # 500 에포크마다 검증 세트에 대한 손실 출력\n",
        "    if iteration % 500 == 0:\n",
        "        print(iteration, loss0)\n",
        "        \n",
        "    # 에포크마다 최소 손실값 업데이트\n",
        "    if loss0 < best_loss0:\n",
        "        best_loss0 = loss0\n",
        "    else:                                      # 에포크가 줄어들지 않으면 바로 훈련 종료\n",
        "        print(iteration - 1, best_loss0)        # 종료되기 이전 에포크의 손실값 출력\n",
        "        print(iteration, loss0, \"조기 종료!\")\n",
        "        break"
      ],
      "execution_count": null,
      "outputs": [
        {
          "output_type": "stream",
          "text": [
            "0 20.540019459712514\n",
            "500 7.744571615343959\n",
            "1000 7.672989036271927\n",
            "1500 7.668592640555666\n",
            "2000 7.668314272027711\n",
            "2500 7.668296612120626\n",
            "3000 7.668295491624586\n",
            "3500 7.668295420530142\n",
            "4000 7.668295416019264\n",
            "4500 7.668295415733049\n",
            "5000 7.668295415714894\n"
          ],
          "name": "stdout"
        }
      ]
    },
    {
      "cell_type": "markdown",
      "metadata": {
        "id": "-cM8mfrC3WN8"
      },
      "source": [
        "**virginica 판별 로지스틱 회귀 모델**"
      ]
    },
    {
      "cell_type": "code",
      "metadata": {
        "colab": {
          "base_uri": "https://localhost:8080/"
        },
        "id": "tvDrwAaNprLM",
        "outputId": "cd8a7986-9246-4826-9ae9-a6ae3b89be7c"
      },
      "source": [
        "eta = 0.1 \n",
        "n_iterations = 5001\n",
        "m = len(X_train)\n",
        "epsilon = 1e-7\n",
        "alpha = 0.5            # 규제 하이퍼파라미터\n",
        "best_loss1 = np.infty   # 최소 손실값 기억 변수\n",
        "\n",
        "Theta1 = np.random.randn(n_inputs)  # 파라미터 새로 초기화\n",
        "\n",
        "for iteration in range(n_iterations):\n",
        "    # 훈련 및 손실 계산\n",
        "    logits1 = X_train.dot(Theta1)\n",
        "    Y_proba1 = logistic(logits1)\n",
        "    error = Y_proba1 - y_train1\n",
        "    gradients1 = 1/m * X_train.T.dot(error) + np.r_[np.zeros([1]), alpha * Theta1[1:]]\n",
        "    Theta1 = Theta1 - eta * gradients1\n",
        "\n",
        "    # 검증 세트에 대한 손실 계산\n",
        "    logits1 = X_valid.dot(Theta1)\n",
        "    Y_proba1 = logistic(logits1)\n",
        "    xentropy_loss1 = -np.mean(np.sum((y_valid1*np.log(Y_proba1 + epsilon) + (1-y_valid1)*np.log(1 - Y_proba1 + epsilon))))\n",
        "    l2_loss1 = 1/2 * np.sum(np.square(Theta1[1:]))\n",
        "    loss1 = xentropy_loss1 + alpha * l2_loss1\n",
        "    \n",
        "    # 500 에포크마다 검증 세트에 대한 손실 출력\n",
        "    if iteration % 500 == 0:\n",
        "        print(iteration, loss1)\n",
        "        \n",
        "    # 에포크마다 최소 손실값 업데이트\n",
        "    if loss1 < best_loss1:\n",
        "        best_loss1 = loss1\n",
        "    else:                                      # 에포크가 줄어들지 않으면 바로 훈련 종료\n",
        "        print(iteration - 1, best_loss1)        # 종료되기 이전 에포크의 손실값 출력\n",
        "        print(iteration, loss1, \"조기 종료!\")\n",
        "        break"
      ],
      "execution_count": null,
      "outputs": [
        {
          "output_type": "stream",
          "text": [
            "0 45.38818486389959\n",
            "500 12.482904005693054\n",
            "1000 11.947222069327108\n",
            "1500 11.864096195806566\n",
            "2000 11.849273910674974\n",
            "2500 11.846566475123907\n",
            "3000 11.846069764314986\n",
            "3500 11.845978563684064\n",
            "4000 11.845961815948371\n",
            "4500 11.845958740374874\n",
            "5000 11.845958175570198\n"
          ],
          "name": "stdout"
        }
      ]
    },
    {
      "cell_type": "markdown",
      "metadata": {
        "id": "AgGBbZQPMVy4"
      },
      "source": [
        "## 테스트셋 적용\n",
        "\n",
        "위에서 구한 두 개의 세타값을 이용하여\n",
        "\n",
        "setosa일 확률, virginica일 확률, versicolor일 확률 중 가장 높은 것을 채택하여 분류를 진행한다.\n",
        "\n"
      ]
    },
    {
      "cell_type": "code",
      "metadata": {
        "id": "2s73iuFYSbMy"
      },
      "source": [
        "logits = X_test.dot(Theta0) #setosa에 대한 확률값 추정  \n",
        "setosa_proba = logistic(logits)\n",
        "\n",
        "logits = X_test.dot(Theta1) #virginica에 대한 확률값 추정 \n",
        "virginica_proba = logistic(logits)\n",
        "\n",
        "y_predict = np.array([])\n",
        "for i in range(len(Y_proba0)):\n",
        "  prob_list = [[setosa_proba[i], 0], [1-setosa_proba[i]-virginica_proba[i], 1], [virginica_proba[i], 2]]\n",
        "  prob_list.sort(reverse=True) #가장 높은 확률이 가장 앞으로 오게끔 정렬해준다.\n",
        "  y_predict = np.append(y_predict, prob_list[0][1]) #가장 확률이 높았던 것을 예측값으로 결정한다."
      ],
      "execution_count": null,
      "outputs": []
    },
    {
      "cell_type": "code",
      "metadata": {
        "id": "X-gfzDOUSrtI",
        "colab": {
          "base_uri": "https://localhost:8080/"
        },
        "outputId": "a5d9be91-4ce2-47d9-f3f4-750740d0ba08"
      },
      "source": [
        "accuracy_score = np.mean(y_predict == y_test)\n",
        "accuracy_score"
      ],
      "execution_count": null,
      "outputs": [
        {
          "output_type": "execute_result",
          "data": {
            "text/plain": [
              "0.9333333333333333"
            ]
          },
          "metadata": {
            "tags": []
          },
          "execution_count": 127
        }
      ]
    },
    {
      "cell_type": "markdown",
      "metadata": {
        "id": "zTjfe3bPMnDN"
      },
      "source": [
        "## 사이킷런의 로지스틱 모델과의 성능 비교\n",
        "\n"
      ]
    },
    {
      "cell_type": "code",
      "metadata": {
        "id": "gt8_xHinMspO"
      },
      "source": [
        "from sklearn.linear_model import LogisticRegression\n",
        "multi_log_reg = LogisticRegression(solver='newton-cg', random_state=42).fit(X_train,y_train)\n",
        "\n",
        "multi_log_reg.score(X_test,y_test)"
      ],
      "execution_count": null,
      "outputs": []
    },
    {
      "cell_type": "markdown",
      "metadata": {
        "id": "DDPLSUVkMwkl"
      },
      "source": [
        "직접 구현한 코드와 사이킷런에 내장되어있는 로지스틱 모델과 성능이 같음을 확인할 수 있다."
      ]
    },
    {
      "cell_type": "markdown",
      "metadata": {
        "id": "p3d-qlNPzGOe"
      },
      "source": [
        "#과제3"
      ]
    }
  ]
}